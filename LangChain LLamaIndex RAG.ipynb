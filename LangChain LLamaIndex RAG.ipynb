{
 "cells": [
  {
   "cell_type": "code",
   "execution_count": 1,
   "id": "6301f43b",
   "metadata": {},
   "outputs": [],
   "source": [
    "import warnings\n",
    "warnings.filterwarnings(\"ignore\")"
   ]
  },
  {
   "cell_type": "code",
   "execution_count": 2,
   "id": "c224cb83",
   "metadata": {
    "scrolled": true
   },
   "outputs": [
    {
     "name": "stdout",
     "output_type": "stream",
     "text": [
      "Looking in indexes: https://pypi.org/simple, https://pip.repos.neuron.amazonaws.com\n",
      "Requirement already satisfied: langchain in /home/ec2-user/anaconda3/envs/pytorch_p310/lib/python3.10/site-packages (0.0.243)\n",
      "Requirement already satisfied: llama-index in /home/ec2-user/anaconda3/envs/pytorch_p310/lib/python3.10/site-packages (0.7.13)\n",
      "Requirement already satisfied: PyYAML>=5.4.1 in /home/ec2-user/anaconda3/envs/pytorch_p310/lib/python3.10/site-packages (from langchain) (5.4.1)\n",
      "Requirement already satisfied: SQLAlchemy<3,>=1.4 in /home/ec2-user/anaconda3/envs/pytorch_p310/lib/python3.10/site-packages (from langchain) (2.0.19)\n",
      "Requirement already satisfied: aiohttp<4.0.0,>=3.8.3 in /home/ec2-user/anaconda3/envs/pytorch_p310/lib/python3.10/site-packages (from langchain) (3.8.5)\n",
      "Requirement already satisfied: async-timeout<5.0.0,>=4.0.0 in /home/ec2-user/anaconda3/envs/pytorch_p310/lib/python3.10/site-packages (from langchain) (4.0.2)\n",
      "Requirement already satisfied: dataclasses-json<0.6.0,>=0.5.7 in /home/ec2-user/anaconda3/envs/pytorch_p310/lib/python3.10/site-packages (from langchain) (0.5.13)\n",
      "Requirement already satisfied: langsmith<0.1.0,>=0.0.11 in /home/ec2-user/anaconda3/envs/pytorch_p310/lib/python3.10/site-packages (from langchain) (0.0.14)\n",
      "Requirement already satisfied: numexpr<3.0.0,>=2.8.4 in /home/ec2-user/anaconda3/envs/pytorch_p310/lib/python3.10/site-packages (from langchain) (2.8.4)\n",
      "Requirement already satisfied: numpy<2,>=1 in /home/ec2-user/anaconda3/envs/pytorch_p310/lib/python3.10/site-packages (from langchain) (1.24.3)\n",
      "Requirement already satisfied: openapi-schema-pydantic<2.0,>=1.2 in /home/ec2-user/anaconda3/envs/pytorch_p310/lib/python3.10/site-packages (from langchain) (1.2.4)\n",
      "Requirement already satisfied: pydantic<2,>=1 in /home/ec2-user/anaconda3/envs/pytorch_p310/lib/python3.10/site-packages (from langchain) (1.10.7)\n",
      "Requirement already satisfied: requests<3,>=2 in /home/ec2-user/anaconda3/envs/pytorch_p310/lib/python3.10/site-packages (from langchain) (2.29.0)\n",
      "Requirement already satisfied: tenacity<9.0.0,>=8.1.0 in /home/ec2-user/anaconda3/envs/pytorch_p310/lib/python3.10/site-packages (from langchain) (8.2.2)\n",
      "Requirement already satisfied: tiktoken in /home/ec2-user/anaconda3/envs/pytorch_p310/lib/python3.10/site-packages (from llama-index) (0.4.0)\n",
      "Requirement already satisfied: openai>=0.26.4 in /home/ec2-user/anaconda3/envs/pytorch_p310/lib/python3.10/site-packages (from llama-index) (0.27.8)\n",
      "Requirement already satisfied: pandas in /home/ec2-user/anaconda3/envs/pytorch_p310/lib/python3.10/site-packages (from llama-index) (1.5.3)\n",
      "Requirement already satisfied: urllib3<2 in /home/ec2-user/anaconda3/envs/pytorch_p310/lib/python3.10/site-packages (from llama-index) (1.26.14)\n",
      "Requirement already satisfied: fsspec>=2023.5.0 in /home/ec2-user/anaconda3/envs/pytorch_p310/lib/python3.10/site-packages (from llama-index) (2023.5.0)\n",
      "Requirement already satisfied: typing-inspect>=0.8.0 in /home/ec2-user/anaconda3/envs/pytorch_p310/lib/python3.10/site-packages (from llama-index) (0.9.0)\n",
      "Requirement already satisfied: typing-extensions>=4.5.0 in /home/ec2-user/anaconda3/envs/pytorch_p310/lib/python3.10/site-packages (from llama-index) (4.5.0)\n",
      "Requirement already satisfied: beautifulsoup4 in /home/ec2-user/anaconda3/envs/pytorch_p310/lib/python3.10/site-packages (from llama-index) (4.12.2)\n",
      "Requirement already satisfied: nest-asyncio in /home/ec2-user/anaconda3/envs/pytorch_p310/lib/python3.10/site-packages (from llama-index) (1.5.5)\n",
      "Requirement already satisfied: attrs>=17.3.0 in /home/ec2-user/anaconda3/envs/pytorch_p310/lib/python3.10/site-packages (from aiohttp<4.0.0,>=3.8.3->langchain) (23.1.0)\n",
      "Requirement already satisfied: charset-normalizer<4.0,>=2.0 in /home/ec2-user/anaconda3/envs/pytorch_p310/lib/python3.10/site-packages (from aiohttp<4.0.0,>=3.8.3->langchain) (3.1.0)\n",
      "Requirement already satisfied: multidict<7.0,>=4.5 in /home/ec2-user/anaconda3/envs/pytorch_p310/lib/python3.10/site-packages (from aiohttp<4.0.0,>=3.8.3->langchain) (6.0.4)\n",
      "Requirement already satisfied: yarl<2.0,>=1.0 in /home/ec2-user/anaconda3/envs/pytorch_p310/lib/python3.10/site-packages (from aiohttp<4.0.0,>=3.8.3->langchain) (1.9.2)\n",
      "Requirement already satisfied: frozenlist>=1.1.1 in /home/ec2-user/anaconda3/envs/pytorch_p310/lib/python3.10/site-packages (from aiohttp<4.0.0,>=3.8.3->langchain) (1.4.0)\n",
      "Requirement already satisfied: aiosignal>=1.1.2 in /home/ec2-user/anaconda3/envs/pytorch_p310/lib/python3.10/site-packages (from aiohttp<4.0.0,>=3.8.3->langchain) (1.3.1)\n",
      "Requirement already satisfied: marshmallow<4.0.0,>=3.18.0 in /home/ec2-user/anaconda3/envs/pytorch_p310/lib/python3.10/site-packages (from dataclasses-json<0.6.0,>=0.5.7->langchain) (3.20.1)\n",
      "Requirement already satisfied: tqdm in /home/ec2-user/anaconda3/envs/pytorch_p310/lib/python3.10/site-packages (from openai>=0.26.4->llama-index) (4.65.0)\n",
      "Requirement already satisfied: idna<4,>=2.5 in /home/ec2-user/anaconda3/envs/pytorch_p310/lib/python3.10/site-packages (from requests<3,>=2->langchain) (3.4)\n",
      "Requirement already satisfied: certifi>=2017.4.17 in /home/ec2-user/anaconda3/envs/pytorch_p310/lib/python3.10/site-packages (from requests<3,>=2->langchain) (2023.7.22)\n",
      "Requirement already satisfied: greenlet!=0.4.17 in /home/ec2-user/anaconda3/envs/pytorch_p310/lib/python3.10/site-packages (from SQLAlchemy<3,>=1.4->langchain) (2.0.2)\n",
      "Requirement already satisfied: mypy-extensions>=0.3.0 in /home/ec2-user/anaconda3/envs/pytorch_p310/lib/python3.10/site-packages (from typing-inspect>=0.8.0->llama-index) (1.0.0)\n",
      "Requirement already satisfied: soupsieve>1.2 in /home/ec2-user/anaconda3/envs/pytorch_p310/lib/python3.10/site-packages (from beautifulsoup4->llama-index) (2.3.2.post1)\n",
      "Requirement already satisfied: python-dateutil>=2.8.1 in /home/ec2-user/anaconda3/envs/pytorch_p310/lib/python3.10/site-packages (from pandas->llama-index) (2.8.2)\n",
      "Requirement already satisfied: pytz>=2020.1 in /home/ec2-user/anaconda3/envs/pytorch_p310/lib/python3.10/site-packages (from pandas->llama-index) (2023.3)\n",
      "Requirement already satisfied: regex>=2022.1.18 in /home/ec2-user/anaconda3/envs/pytorch_p310/lib/python3.10/site-packages (from tiktoken->llama-index) (2023.6.3)\n",
      "Requirement already satisfied: packaging>=17.0 in /home/ec2-user/anaconda3/envs/pytorch_p310/lib/python3.10/site-packages (from marshmallow<4.0.0,>=3.18.0->dataclasses-json<0.6.0,>=0.5.7->langchain) (21.3)\n",
      "Requirement already satisfied: six>=1.5 in /home/ec2-user/anaconda3/envs/pytorch_p310/lib/python3.10/site-packages (from python-dateutil>=2.8.1->pandas->llama-index) (1.16.0)\n",
      "Requirement already satisfied: pyparsing!=3.0.5,>=2.0.2 in /home/ec2-user/anaconda3/envs/pytorch_p310/lib/python3.10/site-packages (from packaging>=17.0->marshmallow<4.0.0,>=3.18.0->dataclasses-json<0.6.0,>=0.5.7->langchain) (3.0.9)\n"
     ]
    }
   ],
   "source": [
    "!pip install langchain llama-index"
   ]
  },
  {
   "cell_type": "code",
   "execution_count": 3,
   "id": "6af0e9b2",
   "metadata": {
    "scrolled": true
   },
   "outputs": [
    {
     "name": "stdout",
     "output_type": "stream",
     "text": [
      "Looking in indexes: https://pypi.org/simple, https://pip.repos.neuron.amazonaws.com\n",
      "Requirement already satisfied: openai in /home/ec2-user/anaconda3/envs/pytorch_p310/lib/python3.10/site-packages (0.27.8)\n",
      "Requirement already satisfied: requests>=2.20 in /home/ec2-user/anaconda3/envs/pytorch_p310/lib/python3.10/site-packages (from openai) (2.29.0)\n",
      "Requirement already satisfied: tqdm in /home/ec2-user/anaconda3/envs/pytorch_p310/lib/python3.10/site-packages (from openai) (4.65.0)\n",
      "Requirement already satisfied: aiohttp in /home/ec2-user/anaconda3/envs/pytorch_p310/lib/python3.10/site-packages (from openai) (3.8.5)\n",
      "Requirement already satisfied: charset-normalizer<4,>=2 in /home/ec2-user/anaconda3/envs/pytorch_p310/lib/python3.10/site-packages (from requests>=2.20->openai) (3.1.0)\n",
      "Requirement already satisfied: idna<4,>=2.5 in /home/ec2-user/anaconda3/envs/pytorch_p310/lib/python3.10/site-packages (from requests>=2.20->openai) (3.4)\n",
      "Requirement already satisfied: urllib3<1.27,>=1.21.1 in /home/ec2-user/anaconda3/envs/pytorch_p310/lib/python3.10/site-packages (from requests>=2.20->openai) (1.26.14)\n",
      "Requirement already satisfied: certifi>=2017.4.17 in /home/ec2-user/anaconda3/envs/pytorch_p310/lib/python3.10/site-packages (from requests>=2.20->openai) (2023.7.22)\n",
      "Requirement already satisfied: attrs>=17.3.0 in /home/ec2-user/anaconda3/envs/pytorch_p310/lib/python3.10/site-packages (from aiohttp->openai) (23.1.0)\n",
      "Requirement already satisfied: multidict<7.0,>=4.5 in /home/ec2-user/anaconda3/envs/pytorch_p310/lib/python3.10/site-packages (from aiohttp->openai) (6.0.4)\n",
      "Requirement already satisfied: async-timeout<5.0,>=4.0.0a3 in /home/ec2-user/anaconda3/envs/pytorch_p310/lib/python3.10/site-packages (from aiohttp->openai) (4.0.2)\n",
      "Requirement already satisfied: yarl<2.0,>=1.0 in /home/ec2-user/anaconda3/envs/pytorch_p310/lib/python3.10/site-packages (from aiohttp->openai) (1.9.2)\n",
      "Requirement already satisfied: frozenlist>=1.1.1 in /home/ec2-user/anaconda3/envs/pytorch_p310/lib/python3.10/site-packages (from aiohttp->openai) (1.4.0)\n",
      "Requirement already satisfied: aiosignal>=1.1.2 in /home/ec2-user/anaconda3/envs/pytorch_p310/lib/python3.10/site-packages (from aiohttp->openai) (1.3.1)\n"
     ]
    }
   ],
   "source": [
    "!pip install openai"
   ]
  },
  {
   "cell_type": "code",
   "execution_count": 4,
   "id": "d9a1c20f",
   "metadata": {},
   "outputs": [],
   "source": [
    "import os\n",
    "import openai\n",
    "from langchain.text_splitter import CharacterTextSplitter\n",
    "from langchain.embeddings.openai import OpenAIEmbeddings\n",
    "from langchain.vectorstores import FAISS\n",
    "\n",
    "os.environ['OPENAI_API_KEY'] = <openai-key>"
   ]
  },
  {
   "cell_type": "code",
   "execution_count": 5,
   "id": "f1268c7b",
   "metadata": {},
   "outputs": [],
   "source": [
    "from sentence_transformers import SentenceTransformer\n",
    "\n",
    "m2 = SentenceTransformer('sentence-transformers/LaBSE')"
   ]
  },
  {
   "cell_type": "code",
   "execution_count": 6,
   "id": "2dbddb1e",
   "metadata": {},
   "outputs": [
    {
     "name": "stderr",
     "output_type": "stream",
     "text": [
      "Warning : `load_model` does not return WordVectorModel or SupervisedModel any more, but a `FastText` object which is very similar.\n"
     ]
    }
   ],
   "source": [
    "# Language Detection Model from NLLB\n",
    "\n",
    "import fasttext\n",
    "from huggingface_hub import hf_hub_download\n",
    "\n",
    "model_path = hf_hub_download(repo_id=\"facebook/fasttext-language-identification\", filename=\"model.bin\")\n",
    "model = fasttext.load_model(model_path)"
   ]
  },
  {
   "cell_type": "code",
   "execution_count": 7,
   "id": "7b707fe3",
   "metadata": {},
   "outputs": [],
   "source": [
    "with open('dataset.txt', 'r') as f:\n",
    "    data = f.read()\n",
    "    \n",
    "data = data.replace('\\n\\n','\\n')"
   ]
  },
  {
   "cell_type": "code",
   "execution_count": 8,
   "id": "9bbb6131",
   "metadata": {},
   "outputs": [],
   "source": [
    "data = data.split('---')\n",
    "\n",
    "for i in range(0, len(data)):\n",
    "    if i==4:\n",
    "        data[i] = data[i].replace('\\n**', '\\n###').replace('**','')\n",
    "    elif i==3:\n",
    "        data[i] = data[i].replace('**','')\n",
    "    else:\n",
    "        data[i] = data[i].replace('**','')"
   ]
  },
  {
   "cell_type": "code",
   "execution_count": 9,
   "id": "5cce9310",
   "metadata": {},
   "outputs": [],
   "source": [
    "ques_ans = dict()\n",
    "for i in range(0, len(data)):\n",
    "    temp = data[i]\n",
    "    temp = temp.split('\\n###')\n",
    "    \n",
    "    for j in range(1, len(temp)):\n",
    "        tp = temp[j].split('\\n')\n",
    "        ques_ans[tp[0]] = \" \".join(tp[1:])"
   ]
  },
  {
   "cell_type": "code",
   "execution_count": 10,
   "id": "4dae824b",
   "metadata": {},
   "outputs": [
    {
     "name": "stdout",
     "output_type": "stream",
     "text": [
      " What is Pan card? The PAN card is a unique ten-digit alphanumeric identification number that is issued by the Income Tax Department of India to track the tax-related transactions of individuals and entities. The PAN card is mandatory for any financial transaction in India, including opening a bank account, buying or selling property, and filing income tax returns.\n",
      " Who needs a Pan card? All individuals/non-individuals (including foreign citizens/entities) earning taxable income in India must have a PAN card.\n",
      " Types of PAN cards In India, two types of PAN cards are available: e-PAN card and physical PAN card. 1. e-PAN card: An e-PAN card is a digitally-signed PAN card issued in electronic format. It contains the same PAN details as a physical PAN card but is available in a digital format. It can be downloaded online and used as a valid identification document for various purposes. The e-PAN card is usually issued in a PDF format. 2. Physical PAN card: A physical PAN card is a laminated card with your PAN details printed on it. It is a physical document that can be carried and used as a valid identification proof. The physical PAN card is sent to the applicant's registered address by post. Both e-PAN and physical PAN cards have the same validity and can be used for identification purposes. The choice between the two depends on the applicant's preference and requirements.\n",
      " Why do NRIs need PAN card? NRIS don’t need to have a PAN Card. However, a PAN Card is necessary for NRIs if they wish to do any of the following in India: 1. A PAN card is required to carry out financial transactions such as opening a bank account, investing in stocks, purchasing or selling property, and investing in India. 2. If an NRI earns an income in India, they must file income tax returns. A PAN card is necessary to file these returns. 3. If an NRI wants to invest in mutual funds in India, they must have a PAN card.\n",
      " Importance of PAN card for different NRI account options NRI Accounts comprise of NRE,NRO and FCNR Accounts. A basic overview to understand the importance of PAN Card with respect to these three accounts can be understood as: NRE: For funds earned outside India where both Principal and Interest earned are tax-free. Therefore, NRIs can opt for Form 60, which is a substitute for PAN for opening an NRE Account. NRO: For funds earned in India which are mostly liable to taxes. Income such as rent or pension where taxes are not deducted at source are deposited in an NRO Account. Therefore, a PAN Card is mandatory for NRO Accounts. FCNR: For foreign currency term deposits from outside India. Again, the principal and interest are tax-free, so usage of a PAN Card is not necessary and can be substituted with Form 60. \n",
      " How can NRI apply for a new PAN card Here are the steps for *PAN CARD* processing.  - Visit ABC app - Navigate to Services > NRI Pan Card > Apply New PAN - Select the required form of PAN card and proceed with the payment - Our team will get in touch with you to ask for the following documents:     - Passport(Any Country) / OCI Card     - Passport Size Photograph     - Overseas address proof with zip code (Supporting documents - Indian NRO/NRE Account statement or Overseas bank statement or Utility bill)\n",
      " Documents required for a new PAN Card If you have Aadhaar card No other document is required. You can get your pan card through your Aadhaar card in 10 minutes. If you don’t have an Aadhaar card - Passport(Any Country) / OCI Card - Passport Size Photograph - Overseas address proof with zip code (Supporting documents - Indian NRO/NRE Account statement or Overseas bank statement or Utility bill)\n",
      " Cost of new PAN card The PAN CARD Application through ABC costs Rs 2500 for E-PAN, and if you want it to be couriered, it will cost Rs 1200 extra for physical delivery to your address. - e-PAN Card cost: INR 2500 - Physical PAN Card cost: INR 3700\n",
      " Time required to issue PAN card If you have Aadhaar card You can get a Pan Card instantly (in under 10 minutes), if you have an Aadhaar card. You can apply through ABC. If you don’t have an Aadhaar card Once the payment is made to ABC, we will contact you and initiate the process. Pan card will be issued in 3 weeks. ## Updation/Correction in the PAN Card\n",
      " Information that can be updated in the PAN Card - Your name - Father’s name - Date of Birth - Citizenship - Photograph - Signature - Gender - Address - Contact details\n",
      " General process to update details on PAN Card To update the details on your PAN card, you have to generate the reissue request for the Updation/ Correction of the PAN CARD. Follow the steps: - Go to ABC app - Navigate to Services > NRI PAN Card > PAN Card Correction - Request reissue the required PAN card and make the payment - Our team will reachout to you for the required documents Do you want to start the process here instead? Click the button below. Time required to complete the correction process for the PAN card: The duration to complete the correction process for your PAN card can vary, but it generally takes around 2-3 weeks. \n",
      " Documents required to update the details on PAN Card To update the information on the PAN card, kindly keep these documents ready. - Copy of Existing Pan card - Passport(Any Country) / OCI Card - Passport Size Photograph - Overseas address proof with zip code (Supporting documents - Indian NRO/NRE Account statement or Overseas bank statement or Utility bill)\n",
      " Documents required to update the address on PAN Card - Passport - OCI Card - Bank Account Statement in the country of residence - NRE Bank Account Statement in India - Residential Permit\n",
      " Process to change the citizenship on PAN Card No direct provisions exist to change citizenship in a Pan Card as the PAN Card doesn’t display your citizenship. It is a document required to file taxes, carry out investments and do transactions in India, whether you are a citizen, NRI, or OCI. To change the citizenship in a PAN card, you must meet and notify your jurisdictional Assessing Officer. For NRIs, it is not easy to meet the assessing officer. However, ABC can meet or notify the jurisdictional assessing officer on your behalf. Contact a tax expert at ABC to change your citizenship on PAN card. Time required to update the citizenship status: Generally, it takes around a month to complete the process, but the duration can vary based on factors such as workload and the authorities' responsiveness.\n",
      " Reprinting lost Aadhaar Card To reprint your PAN card, you need to follow a specific procedure that involves providing certain documents and information to authenticate your identity. The process can take around 2-3 weeks to complete. You can apply for a reprint through ABC. We will guide you through the process and help you obtain a new copy of your PAN card.\n",
      " Documents required for reprinting the lost PAN card 1. If you remember your PAN number: - Pan number - Passport(Any Country) / OCI Card - Passport Size Photograph - Overseas address proof with zip code (Supporting documents - Indian NRO/NRE Account statement or Overseas bank statement or Utility bill) 2. If you don’t remember your PAN number: This gets tricky in most cases so our representative will reach out to you to inform you about the process. Do you remember your PAN card number?\n",
      " Charges for reprinting the PAN Card The charges for reprinting the PAN Card are INR 2500 for e-pan, and INR 3700 for physical pan card. \n",
      " Linking PAN with Aadhaar card ABC can link your PAN card and Aadhaar card on your behalf. \n",
      " Process to link PAN with Aadhaar - Go to ABC app - Navigate to Services > NRI PAN Card > Link PAN with Aadhaar - Request reissue the required PAN card and make the payment - Our team will reach out to you for the required documents Alternatively, you can also initiate the process on WhatsApp as well.\n",
      " ABC fees to link PAN with Aadhaar The charges for linking Pan & Aadhaar is INR 2000/-, including the penalty charges to be paid for the delay in linking Pan & Aadhaar.\n",
      " Documents required to link PAN with Aadhaar Kindly share a copy of your pan card and Aadhaar card. ABC will review the documents and share a payment link for the linking. New Deadline for linking Aadhaar with pan card 30 June 2023. PAN will become inoperative after June 2023 if not linked to Aadhaar.\n",
      " Time required for PAN Aadhaar link for NRI? It takes upto 6 to 7 days for PAN Aadhaar linking for NRIs. \n",
      " What is Form 49aa? Form 49AA is the application form for the allotment of Permanent Account Number for Foreign residents and entities incorporated outside India.\n",
      " Documents Required for Form 49AA Here are the necessary documents that are supposed to be submitted along with PAN Card Form 49AA 1. Passport 2. PIO card issued by Government of India 3. OCI card issued by Government of India 4. Other national/citizenship Identification Number/Taxpayer Identification Number duly attested by “Apostille” or by the Indian Embassy/High Commission/Consulate in the country where the applicant is located or authorized officials of overseas branches of Scheduled Banks registered in India. 5. Bank account statement in the country of residence 6. NRE bank account statement in India 7. Certificate of Residence in India or Residential permit issued by the State Police Authorities 8. Registration certificate issued by the Foreigner’s Registration Office showing Indian address 9. Visa granted and Copy of appointment letter/ contract from Indian Company & Certificate (in original) of Indian address issued by the employer \n",
      "Is it mandatory to link Aadhaar with PAN for NRI? No, Aadhaar and PAN linking is optional for NRIs. However, to avoid any legal complications in India, NRIs should either link their PAN to Aadhaar, or update their status as non-resident.\n",
      "Is PAN card different for NRI? No, PAN works completely the same way for both NRI and Resident Indian except for one factor – the type of Application Form alone changes with respect to your current Residential Status. A PAN is mandatory when filing an Income-Tax return, TDS or any transaction that attracts tax. \n",
      "Can I apply for pan card from USA? Yes. You can apply for a PAN Card from the USA. The easiest and most convenient way to apply for a PAN card from the USA is through ABC. \n",
      "Is a PAN card mandatory for an NRI bank account? No, in the absence of the Pan Card, NRIs can sign Form 60 [Form 60 is a declaration to be filed by an individual or a person (not being a company or firm) who does not have a Permanent Account Number (PAN) and who in involved in any transaction] to open an NRI Account.\n",
      "Can OCI holders get PAN card? Yes, NRIs who hold foreign citizenship, such as OCI holders or people of Indian origin who possess foreign citizenship or foreigners who are not of Indian origin, can get PAN card through Form 49AA.\n",
      "Can an NRI buy property in India without PAN card? No, A [PAN card](https://ABC.com/blog/nri-income-tax/uses-of-a-pan-card-for-nris) is mandatory to buy property in India. NRIs need a PAN card because they will be required to file income tax returns if they have rented out the property. Besides, if the property is sold later, the capital gains resulting from the sales would be subject to capital gains tax. \n",
      "What is the difference between an NRI PAN card and normal PAN card? There is no difference between an NRI PAN card and normal PAN card. An [NRI PAN card is the same as a PAN card issued to individuals living in India](https://ABC.com/blog/nri-bank-accounts/what-is-the-difference-between-an-nri-pan-card-and-a-normal-pan-card#:~:text=There%20is%20only%20one%20Pan,to%20Indian%20Residents%20and%20NRIs.). However, to apply for a PAN card for OCI or people of Indian origin who hold foreign citizenship, an applicant is required to fill Form 49AA.\n",
      "Is a PAN card mandatory for NRI? PAN is not compulsory for all NRIs. A PAN card is mandatory for NRIs with a source of income in India to file their taxes or if they want to invest in stocks or mutual funds in India.\n",
      "What is the difference between PAN card and Form 60? The basic difference between a PAN Card and [Form 60](https://www.incometaxindia.gov.in/forms/income-tax%20rules/103120000000007944.pdf) is that you can only sign and use the Form 60 to open a bank account but in order to file taxes and carry out investments from that account, a Pan Card is mandatory.\n",
      "Can I get a new PAN card as a Canadian citizen? No, it is illegal to possess multiple PAN cards. As a Canadian citizen, you cannot obtain a new PAN card. Instead, you should update your citizenship status in the existing PAN card.\n",
      "Can I perform KYC for my father's mutual funds with an NRI PAN card? You can use your NRI PAN card to perform KYC (Know Your Customer) for your father's mutual funds. However, ensuring that your PAN card reflects your updated citizenship status is crucial. You need to complete updating your citizenship in the PAN database before using it for any financial transactions or KYC requirements.\n",
      "Can the new PAN card be dispatched to my Canadian address? Yes, the PAN card can be delivered to your overseas address, including your Canadian address. While applying for a new PAN card or requesting corrections, you can provide your Canadian address as the delivery address. Make sure to provide accurate and complete address details to ensure successful delivery.\n",
      "What documents are required for updating citizenship on the PAN card? To update your citizenship status, you must provide documents such as your foreign passport, revoked Indian passport (if applicable), and a citizenship renunciation letter (if you have renounced Indian citizenship). \n",
      "Can an overseas driving license be considered as a valid address proof for the PAN card? No, an overseas driving license is generally not considered a valid address proof for the PAN card. Instead, you can provide alternative documents such as bank statements or credit card statements that contain your overseas address as proof of address while applying for corrections or updating your PAN card.\n",
      "How can I make the payment for the PAN card correction process? During the PAN card correction process, you will be either provided with a payment link or taken to Razorpay page. Razorpay is a secure online platform where you can make the payment conveniently using various payment options such as credit/debit cards, net banking, or digital wallets. Make sure to follow the instructions provided and ensure the payment is made within the specified timeframe.\n",
      "Can I link aadhaar card and PAN card even if there is minor difference in my name in both? It is important for the date of birth (DOB) to be the same on both the PAN and Aadhaar documents. However, minor differences in the name should not pose an issue.\n",
      "Can NRIs make the payment for the process using an Indian bank account? Yes, NRIs can make the payment through their Indian bank accounts. However, it is worth noting that paying in Indian Rupees (INR) may be costlier due to the application of 18% GST.\n",
      "Is it possible to make the payment for the process using a cheque? No, ABC only accepts online payments for the linking process and does not accept cheques.\n",
      "What payment options are available for NRIs? NRIs can make the payment using their debit or credit cards or through their international cards.\n",
      "Can NRIs residing in the USA link their PAN and Aadhaar cards without visiting India? Yes, NRIs residing in the USA can link their PAN and Aadhaar cards without the need to visit India. ABC can assist them digitally.\n",
      "How can NRIs share their PAN and Aadhaar card details with ABC for the linking process? NRIs can share their PAN and Aadhaar card details by providing clear images of the documents to ABC. Blurry or unclear images may require re-submission for verification.\n",
      "Can NRIs use an international card for making the payment? Yes, NRIs can use their international debit or credit cards to make the payment for the linking process.\n",
      "Is it necessary to download the ABC app or visit their website for the payment process No, it is not necessary to download the ABC app or visit their website for the payment process. The payment link provided by ABC can be accessed directly to make the payment.\n",
      "Can I apply for pan card without Aadhaar? Yes, NRIs can apply for a PAN card without an Aadhaar Card? They can simply do so by filling out either of the forms – 49A (for citizens of India) or Form 49AA (for foreign citizens).\n",
      "Can I apply for a PAN card if I am a non-resident Indian (NRI)? Yes, as an NRI, you can apply for a PAN card. The process for applying for a PAN card is the same for both residents and NRIs. However, if you are an OCI holder or a person of Indian origin who holds foreign citizenship, you will need to fill Form 49AA to apply for a PAN card.\n",
      "Can I take the delivery of Pan card at Indian address? Yes, you can take the delivery of your PAN card only at an Indian address mentioned in your Aadhaar card. While applying for a new PAN card or requesting corrections, you can provide your Indian address as the delivery address. Make sure to provide accurate and complete address details to ensure successful delivery. \n",
      "\n"
     ]
    }
   ],
   "source": [
    "content = str()\n",
    "for key, value in ques_ans.items():\n",
    "    tmp = key + ' ' + value\n",
    "    content = content + tmp + \"\\n\"\n",
    "    \n",
    "print(content)"
   ]
  },
  {
   "cell_type": "code",
   "execution_count": 11,
   "id": "5aba3604",
   "metadata": {
    "scrolled": true
   },
   "outputs": [
    {
     "name": "stderr",
     "output_type": "stream",
     "text": [
      "Created a chunk of size 367, which is longer than the specified 300\n",
      "Created a chunk of size 877, which is longer than the specified 300\n",
      "Created a chunk of size 529, which is longer than the specified 300\n",
      "Created a chunk of size 820, which is longer than the specified 300\n",
      "Created a chunk of size 510, which is longer than the specified 300\n",
      "Created a chunk of size 397, which is longer than the specified 300\n",
      "Created a chunk of size 357, which is longer than the specified 300\n",
      "Created a chunk of size 643, which is longer than the specified 300\n",
      "Created a chunk of size 361, which is longer than the specified 300\n",
      "Created a chunk of size 811, which is longer than the specified 300\n",
      "Created a chunk of size 363, which is longer than the specified 300\n",
      "Created a chunk of size 491, which is longer than the specified 300\n",
      "Created a chunk of size 302, which is longer than the specified 300\n",
      "Created a chunk of size 302, which is longer than the specified 300\n",
      "Created a chunk of size 955, which is longer than the specified 300\n",
      "Created a chunk of size 313, which is longer than the specified 300\n",
      "Created a chunk of size 318, which is longer than the specified 300\n",
      "Created a chunk of size 410, which is longer than the specified 300\n",
      "Created a chunk of size 545, which is longer than the specified 300\n",
      "Created a chunk of size 355, which is longer than the specified 300\n",
      "Created a chunk of size 391, which is longer than the specified 300\n",
      "Created a chunk of size 366, which is longer than the specified 300\n",
      "Created a chunk of size 398, which is longer than the specified 300\n",
      "Created a chunk of size 459, which is longer than the specified 300\n",
      "Created a chunk of size 341, which is longer than the specified 300\n"
     ]
    }
   ],
   "source": [
    "text_splitter = CharacterTextSplitter(separator='\\n', chunk_size=300, chunk_overlap=128, length_function=len)\n",
    "\n",
    "chunks = text_splitter.split_text(content)"
   ]
  },
  {
   "cell_type": "code",
   "execution_count": 12,
   "id": "8de6e707",
   "metadata": {},
   "outputs": [],
   "source": [
    "embeddings = OpenAIEmbeddings()\n",
    "\n",
    "vectorStore = FAISS.from_texts(chunks, embeddings)\n",
    "vectorStore.save_local(\"faiss_doc_idx\")"
   ]
  },
  {
   "cell_type": "code",
   "execution_count": 13,
   "id": "410a1f5d",
   "metadata": {},
   "outputs": [],
   "source": [
    "docs = vectorStore.similarity_search(\"WHow long does it usually take to receive the PAN card after applying?\")"
   ]
  },
  {
   "cell_type": "code",
   "execution_count": 14,
   "id": "b5aea4df",
   "metadata": {},
   "outputs": [],
   "source": [
    "from langchain.llms import OpenAI\n",
    "from langchain.callbacks import get_openai_callback\n",
    "from langchain.chains.question_answering import load_qa_chain\n",
    "\n",
    "llm = OpenAI(temperature=0)\n",
    "chain = load_qa_chain(llm, chain_type=\"refine\")\n",
    "\n",
    "with get_openai_callback() as cb:\n",
    "    response = chain.run(input_documents=docs, question=chain)"
   ]
  },
  {
   "cell_type": "code",
   "execution_count": 15,
   "id": "a026653a",
   "metadata": {},
   "outputs": [
    {
     "data": {
      "text/plain": [
       "\"\\n\\nIf you don't have an Aadhaar card, the PAN card will be issued in 3 weeks after payment is made to ABC. Updation/correction in the PAN card can be done by generating the reissue request for the Updation/ Correction of the PAN CARD through the ABC app. Navigate to Services > NRI PAN Card > PAN Card Correction and request reissue the required PAN card and make the payment. Our team will reachout to you for the required documents. The duration to complete the correction process for your PAN card can vary, but it generally takes around 2-3 weeks. For NRIs, the PAN Aadhaar linking process takes upto 6 to 7 days. Form 49AA is the application form for the allotment of Permanent Account Number for Foreign residents and entities incorporated outside India. Do you want to start the process here instead? Click the button below.\""
      ]
     },
     "execution_count": 15,
     "metadata": {},
     "output_type": "execute_result"
    }
   ],
   "source": [
    "response"
   ]
  },
  {
   "cell_type": "code",
   "execution_count": 16,
   "id": "3b4fb5a2",
   "metadata": {},
   "outputs": [],
   "source": [
    "from evaluate import load\n",
    "\n",
    "# Evaluating the generated text with Word Error Rate (used as for transcription) and ROUGE Score for Translation Tasks.\n",
    "wer = load(\"wer\")\n",
    "rouge = load(\"rouge\")"
   ]
  },
  {
   "cell_type": "markdown",
   "id": "e0ca3d77",
   "metadata": {},
   "source": [
    "## Wrapping the Procedure in a function for Inference"
   ]
  },
  {
   "cell_type": "code",
   "execution_count": 17,
   "id": "0493ff5d",
   "metadata": {},
   "outputs": [
    {
     "name": "stderr",
     "output_type": "stream",
     "text": [
      "Found cached dataset csv (/home/ec2-user/.cache/huggingface/datasets/csv/default-9a0891180e715608/0.0.0/eea64c71ca8b46dd3f537ed218fc9bf495d5707789152eb2764f5c78fa66d59d)\n"
     ]
    },
    {
     "data": {
      "application/vnd.jupyter.widget-view+json": {
       "model_id": "d8d6a5773c0a488cb138d27f5be84d33",
       "version_major": 2,
       "version_minor": 0
      },
      "text/plain": [
       "  0%|          | 0/1 [00:00<?, ?it/s]"
      ]
     },
     "metadata": {},
     "output_type": "display_data"
    }
   ],
   "source": [
    "from datasets import load_dataset\n",
    "\n",
    "test_dict = load_dataset('csv', data_files='test_data.csv')"
   ]
  },
  {
   "cell_type": "code",
   "execution_count": 18,
   "id": "a3c80e99",
   "metadata": {},
   "outputs": [
    {
     "data": {
      "text/plain": [
       "DatasetDict({\n",
       "    train: Dataset({\n",
       "        features: ['Question', 'Ideal Answer'],\n",
       "        num_rows: 34\n",
       "    })\n",
       "})"
      ]
     },
     "execution_count": 18,
     "metadata": {},
     "output_type": "execute_result"
    }
   ],
   "source": [
    "test_dict"
   ]
  },
  {
   "cell_type": "code",
   "execution_count": 19,
   "id": "c51efedc",
   "metadata": {},
   "outputs": [],
   "source": [
    "from langchain.chains import RetrievalQA\n",
    "from langchain.chat_models import ChatOpenAI\n",
    "from langchain.prompts import PromptTemplate\n",
    "\n",
    "llm = ChatOpenAI(model_name=\"gpt-3.5-turbo\", temperature=0)"
   ]
  },
  {
   "cell_type": "code",
   "execution_count": 20,
   "id": "0ed0ab4e",
   "metadata": {},
   "outputs": [],
   "source": [
    "from sklearn.metrics.pairwise import cosine_similarity\n",
    "\n",
    "def retrieve_output(example):\n",
    "    \n",
    "    question = example['Question']\n",
    "    \n",
    "    language = model.predict(question)[0][0].split('__')[-1]\n",
    "    template = \"\"\"I want you to act as a question answering bot which uses the context mentioned and answer in a concise manner and doesn't make stuff up.\n",
    "            You will answer question based on the context - {context}.\n",
    "            You will create content in\"\"\" + str(language) + \"\"\"language.\n",
    "            Question: {question}\n",
    "            Answer:\n",
    "            \"\"\"\n",
    "    QA_CHAIN_PROMPT = PromptTemplate.from_template(template)\n",
    "    qa_chain = RetrievalQA.from_chain_type(llm,retriever=vectorStore.as_retriever(), chain_type_kwargs={\"prompt\": QA_CHAIN_PROMPT})\n",
    "\n",
    "    result = qa_chain({\"query\": question})\n",
    "    example['retrieve_answer'] = result['result']\n",
    "                                           \n",
    "    rg_score = rouge.compute(predictions=[example['retrieve_answer']], references=[example['Ideal Answer']])\n",
    "    example['rouge1'] = rg_score['rouge1']\n",
    "    example['rouge2'] = rg_score['rouge2']\n",
    "    example['rougeL'] = rg_score['rougeL']\n",
    "    example['rougeLsum'] = rg_score['rougeLsum']\n",
    "    \n",
    "    example['wer_score'] = wer.compute(predictions=[example['retrieve_answer']], references=[example['Ideal Answer']])\n",
    "    \n",
    "    gold_answer = m2.encode(example['Ideal Answer'])\n",
    "    predicted_answer = m2.encode(example['retrieve_answer'])\n",
    "    \n",
    "    example['cosine_similarity'] = cosine_similarity([gold_answer, predicted_answer])[0][0]\n",
    "    \n",
    "    return example"
   ]
  },
  {
   "cell_type": "code",
   "execution_count": 21,
   "id": "efed78d0",
   "metadata": {},
   "outputs": [
    {
     "name": "stderr",
     "output_type": "stream",
     "text": [
      "Parameter 'function'=<function retrieve_output at 0x7f93e09c3be0> of the transform datasets.arrow_dataset.Dataset._map_single couldn't be hashed properly, a random hash was used instead. Make sure your transforms and parameters are serializable with pickle or dill for the dataset fingerprinting and caching to work. If you reuse this transform, the caching mechanism will consider it to be different from the previous calls and recompute everything. This warning is only showed once. Subsequent hashing failures won't be showed.\n"
     ]
    },
    {
     "data": {
      "application/vnd.jupyter.widget-view+json": {
       "model_id": "",
       "version_major": 2,
       "version_minor": 0
      },
      "text/plain": [
       "Map:   0%|          | 0/34 [00:00<?, ? examples/s]"
      ]
     },
     "metadata": {},
     "output_type": "display_data"
    },
    {
     "name": "stderr",
     "output_type": "stream",
     "text": [
      "WARNING:langchain.chat_models.openai:Retrying langchain.chat_models.openai.ChatOpenAI.completion_with_retry.<locals>._completion_with_retry in 1.0 seconds as it raised ServiceUnavailableError: The server is overloaded or not ready yet..\n"
     ]
    }
   ],
   "source": [
    "test_dict = test_dict.map(retrieve_output)"
   ]
  },
  {
   "cell_type": "code",
   "execution_count": 22,
   "id": "d15ab757",
   "metadata": {},
   "outputs": [
    {
     "data": {
      "text/plain": [
       "DatasetDict({\n",
       "    train: Dataset({\n",
       "        features: ['Question', 'Ideal Answer', 'retrieve_answer', 'rouge1', 'rouge2', 'rougeL', 'rougeLsum', 'wer_score', 'cosine_similarity'],\n",
       "        num_rows: 34\n",
       "    })\n",
       "})"
      ]
     },
     "execution_count": 22,
     "metadata": {},
     "output_type": "execute_result"
    }
   ],
   "source": [
    "test_dict"
   ]
  },
  {
   "cell_type": "markdown",
   "id": "607b958c",
   "metadata": {},
   "source": [
    "## Evaluation Metrics"
   ]
  },
  {
   "cell_type": "markdown",
   "id": "4e03a8af",
   "metadata": {},
   "source": [
    "### Average Cosine Similarity"
   ]
  },
  {
   "cell_type": "code",
   "execution_count": 23,
   "id": "9961a64e",
   "metadata": {},
   "outputs": [
    {
     "data": {
      "text/plain": [
       "1.0000000017530777"
      ]
     },
     "execution_count": 23,
     "metadata": {},
     "output_type": "execute_result"
    }
   ],
   "source": [
    "import numpy as np\n",
    "\n",
    "# Higher Cosine Similarity shows better retrieved results based on semantics of the content.\n",
    "np.average(test_dict['train']['cosine_similarity'])"
   ]
  },
  {
   "cell_type": "markdown",
   "id": "88ce6653",
   "metadata": {},
   "source": [
    "### Average WER Score"
   ]
  },
  {
   "cell_type": "code",
   "execution_count": 24,
   "id": "bce371fd",
   "metadata": {},
   "outputs": [
    {
     "data": {
      "text/plain": [
       "0.6036692157657393"
      ]
     },
     "execution_count": 24,
     "metadata": {},
     "output_type": "execute_result"
    }
   ],
   "source": [
    "# Word by Word Matching of results is not good enough\n",
    "np.average(test_dict['train']['wer_score'])"
   ]
  },
  {
   "cell_type": "markdown",
   "id": "6f4c427d",
   "metadata": {},
   "source": [
    "### Average Rouge Scores"
   ]
  },
  {
   "cell_type": "code",
   "execution_count": 25,
   "id": "6241a15e",
   "metadata": {},
   "outputs": [
    {
     "data": {
      "text/plain": [
       "0.6546129584515485"
      ]
     },
     "execution_count": 25,
     "metadata": {},
     "output_type": "execute_result"
    }
   ],
   "source": [
    "# ROUGE-N (N-gram) scoring - 1-gram\n",
    "np.average(test_dict['train']['rouge1'])"
   ]
  },
  {
   "cell_type": "code",
   "execution_count": 26,
   "id": "ac775231",
   "metadata": {},
   "outputs": [
    {
     "data": {
      "text/plain": [
       "0.529883599668883"
      ]
     },
     "execution_count": 26,
     "metadata": {},
     "output_type": "execute_result"
    }
   ],
   "source": [
    "# ROUGE-N (N-gram) scoring - 2-gram\n",
    "np.average(test_dict['train']['rouge2'])"
   ]
  },
  {
   "cell_type": "code",
   "execution_count": 27,
   "id": "96449760",
   "metadata": {},
   "outputs": [
    {
     "data": {
      "text/plain": [
       "0.6035913122179466"
      ]
     },
     "execution_count": 27,
     "metadata": {},
     "output_type": "execute_result"
    }
   ],
   "source": [
    "# ROUGE-L (Longest Common Subsequence) scoring - Sentence Level\n",
    "np.average(test_dict['train']['rougeL'])"
   ]
  },
  {
   "cell_type": "code",
   "execution_count": 28,
   "id": "f146c2c7",
   "metadata": {},
   "outputs": [
    {
     "data": {
      "text/plain": [
       "0.6216551599635091"
      ]
     },
     "execution_count": 28,
     "metadata": {},
     "output_type": "execute_result"
    }
   ],
   "source": [
    "# ROUGE-L (Longest Common Subsequence) scoring - Summary Level\n",
    "np.average(test_dict['train']['rougeLsum'])"
   ]
  },
  {
   "cell_type": "markdown",
   "id": "d1325104",
   "metadata": {},
   "source": [
    "## Gradio Chatbot"
   ]
  },
  {
   "cell_type": "code",
   "execution_count": 32,
   "id": "22ae7c21",
   "metadata": {},
   "outputs": [
    {
     "name": "stdout",
     "output_type": "stream",
     "text": [
      "Running on local URL:  http://127.0.0.1:7863\n",
      "Running on public URL: https://f19daabe3133824e73.gradio.live\n",
      "\n",
      "This share link expires in 72 hours. For free permanent hosting and GPU upgrades, run `gradio deploy` from Terminal to deploy to Spaces (https://huggingface.co/spaces)\n"
     ]
    },
    {
     "data": {
      "text/html": [
       "<div><iframe src=\"https://f19daabe3133824e73.gradio.live\" width=\"100%\" height=\"500\" allow=\"autoplay; camera; microphone; clipboard-read; clipboard-write;\" frameborder=\"0\" allowfullscreen></iframe></div>"
      ],
      "text/plain": [
       "<IPython.core.display.HTML object>"
      ]
     },
     "metadata": {},
     "output_type": "display_data"
    },
    {
     "data": {
      "text/plain": []
     },
     "execution_count": 32,
     "metadata": {},
     "output_type": "execute_result"
    }
   ],
   "source": [
    "from langchain.chat_models import ChatOpenAI\n",
    "from langchain.schema import AIMessage, HumanMessage\n",
    "import openai\n",
    "import gradio as gr\n",
    "\n",
    "def predict(message, history):\n",
    "    history_langchain_format = []\n",
    "        \n",
    "    for human, ai in history:\n",
    "        history_langchain_format.append(HumanMessage(content=human))\n",
    "        history_langchain_format.append(AIMessage(content=ai))\n",
    "    \n",
    "    #history_langchain_format.append(HumanMessage(content=message))\n",
    "    \n",
    "    language = model.predict(message)[0][0].split('__')[-1]\n",
    "    template = \"\"\"I want you to act as a question answering bot which uses the context mentioned and answer in a concise manner and doesn't make stuff up.\n",
    "            You will answer question based on the context - {context}.\n",
    "            You will create content in\"\"\" + str(language) + \"\"\"language.\n",
    "            Question: {question}\n",
    "            Answer:\n",
    "            \"\"\"\n",
    "    QA_CHAIN_PROMPT = PromptTemplate.from_template(template)\n",
    "    qa_chain = RetrievalQA.from_chain_type(llm,retriever=vectorStore.as_retriever(), chain_type_kwargs={\"prompt\": QA_CHAIN_PROMPT})\n",
    "\n",
    "    result = qa_chain({\"query\": message})\n",
    "    \n",
    "    history_langchain_format.append(HumanMessage(content=message))\n",
    "    history_langchain_format.append(AIMessage(content=result['result']))\n",
    "    \n",
    "    return result['result']\n",
    "\n",
    "gr.ChatInterface(predict,\n",
    "    chatbot=gr.Chatbot(height=300),\n",
    "    textbox=gr.Textbox(placeholder=\"Ask me a question related to PAN Services\", container=False, scale=7),\n",
    "    title=\"DocumentQABot\",\n",
    "    theme=\"soft\",\n",
    "    examples=[\"What is the cost/fees of a PAN card?\", \"How long does it usually take to receive the PAN card after applying?\"],\n",
    "    retry_btn=None,\n",
    "    undo_btn=\"Delete Previous\",\n",
    "    clear_btn=\"Clear\",).launch(share=True) "
   ]
  },
  {
   "cell_type": "code",
   "execution_count": null,
   "id": "ea5782fa",
   "metadata": {},
   "outputs": [],
   "source": []
  }
 ],
 "metadata": {
  "kernelspec": {
   "display_name": "conda_pytorch_p310",
   "language": "python",
   "name": "conda_pytorch_p310"
  },
  "language_info": {
   "codemirror_mode": {
    "name": "ipython",
    "version": 3
   },
   "file_extension": ".py",
   "mimetype": "text/x-python",
   "name": "python",
   "nbconvert_exporter": "python",
   "pygments_lexer": "ipython3",
   "version": "3.10.10"
  }
 },
 "nbformat": 4,
 "nbformat_minor": 5
}
